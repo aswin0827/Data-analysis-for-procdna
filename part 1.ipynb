{
  "nbformat": 4,
  "nbformat_minor": 0,
  "metadata": {
    "colab": {
      "provenance": []
    },
    "kernelspec": {
      "name": "python3",
      "display_name": "Python 3"
    },
    "language_info": {
      "name": "python"
    }
  },
  "cells": [
    {
      "cell_type": "markdown",
      "source": [
        "Poblem statement: ProcDNA Pharmaceuticals aims to boost prescriptions of \"Zederma\" for Chronic pain (Topical Analgesic) and \"Mercitelo\" for Insomnia by deploying a team of sales representatives. Each Zederma Patch costs $2100, and each Mercitelo pill costs $1800. These reps engage physicians through multiple calls to provide comprehensive product information, promoting both products in each outreach. The US is segmented into regions and territories, with reps assigned specific territories for physician engagement. ProcDNA possesses physician prescription data for 2023, detailing total prescriptions per physician for both products and their respective markets. Additionally, the company has prepared a Specialty file outlining targeted specialties for each product which are to be considered for physician outreach."
      ],
      "metadata": {
        "id": "fQI2fnC_yJpN"
      }
    },
    {
      "cell_type": "markdown",
      "source": [
        "Question 1:\n",
        "1. What data checks will you apply on the given datasets?\n",
        "\n",
        "Solution:\n",
        "1. Checking for inconsistent data in NPI ID (String size of 10), Zip Code (String size of 5) and missing entries in 01 Prescription Data\n",
        "2.Check for missing entries in Affiliation file cases:  #NA is present, Account Code is absent, Duplicates in ZTT File\n",
        "3. Checking for duplicates in all the file"
      ],
      "metadata": {
        "id": "BHGAUhAByUXF"
      }
    },
    {
      "cell_type": "code",
      "source": [
        "pip install pandas"
      ],
      "metadata": {
        "colab": {
          "base_uri": "https://localhost:8080/"
        },
        "id": "I-5LREYfyX5l",
        "outputId": "95b821ed-1ae7-4956-bedf-f69e11f3e5e9"
      },
      "execution_count": 1,
      "outputs": [
        {
          "output_type": "stream",
          "name": "stdout",
          "text": [
            "Requirement already satisfied: pandas in /usr/local/lib/python3.10/dist-packages (2.1.4)\n",
            "Requirement already satisfied: numpy<2,>=1.22.4 in /usr/local/lib/python3.10/dist-packages (from pandas) (1.26.4)\n",
            "Requirement already satisfied: python-dateutil>=2.8.2 in /usr/local/lib/python3.10/dist-packages (from pandas) (2.8.2)\n",
            "Requirement already satisfied: pytz>=2020.1 in /usr/local/lib/python3.10/dist-packages (from pandas) (2024.2)\n",
            "Requirement already satisfied: tzdata>=2022.1 in /usr/local/lib/python3.10/dist-packages (from pandas) (2024.1)\n",
            "Requirement already satisfied: six>=1.5 in /usr/local/lib/python3.10/dist-packages (from python-dateutil>=2.8.2->pandas) (1.16.0)\n"
          ]
        }
      ]
    },
    {
      "cell_type": "code",
      "source": [
        "import pandas as pd"
      ],
      "metadata": {
        "id": "FtMFup6fzXzf"
      },
      "execution_count": 2,
      "outputs": []
    },
    {
      "cell_type": "code",
      "source": [
        "file_path = './data.xlsx'\n",
        "sheet_name = '1. Prescription Data'\n",
        "df = pd.read_excel(file_path, sheet_name=sheet_name,header=3)"
      ],
      "metadata": {
        "id": "Lm75zssyzgi2"
      },
      "execution_count": 3,
      "outputs": []
    },
    {
      "cell_type": "code",
      "source": [
        "df.columns"
      ],
      "metadata": {
        "colab": {
          "base_uri": "https://localhost:8080/"
        },
        "id": "aV9P9UJV20iZ",
        "outputId": "1a75e5e3-47f7-4e9d-a148-dab4ce87edc5"
      },
      "execution_count": 4,
      "outputs": [
        {
          "output_type": "execute_result",
          "data": {
            "text/plain": [
              "Index(['Unnamed: 0', 'Physician ID', 'Zip Code', 'Zederma TRx',\n",
              "       'Topical Analgesic market TRx', 'Mercitelo TRx', 'Insomnia Market TRx',\n",
              "       'Prescription Date'],\n",
              "      dtype='object')"
            ]
          },
          "metadata": {},
          "execution_count": 4
        }
      ]
    },
    {
      "cell_type": "code",
      "source": [
        "inconsistent_npi = df[(df['Physician ID'].isna()) | (df['Physician ID'].astype(str).str.len() != 10)]\n",
        "\n",
        "inconsistent_zip = df[(df['Zip Code'].isna()) | (df['Zip Code'].astype(str).str.len() != 5)]"
      ],
      "metadata": {
        "id": "RYGj5h0lz0hw"
      },
      "execution_count": 5,
      "outputs": []
    },
    {
      "cell_type": "code",
      "source": [
        "if not inconsistent_npi.empty:\n",
        "  print(inconsistent_npi)\n",
        "else:\n",
        "  print(\"NPI ID list is empty\")"
      ],
      "metadata": {
        "colab": {
          "base_uri": "https://localhost:8080/"
        },
        "id": "5fqdyM9Az-Rf",
        "outputId": "8bd8740a-2aa8-4b4d-fac2-f64bd7528b18"
      },
      "execution_count": 6,
      "outputs": [
        {
          "output_type": "stream",
          "name": "stdout",
          "text": [
            "NPI ID list is empty\n"
          ]
        }
      ]
    },
    {
      "cell_type": "code",
      "source": [
        "if not inconsistent_zip.empty:\n",
        "  print(inconsistent_zip['Zip Code'].describe())\n",
        "else:\n",
        "  print(\"Zip Code list is empty\")"
      ],
      "metadata": {
        "colab": {
          "base_uri": "https://localhost:8080/"
        },
        "id": "ETcp34MN3X5i",
        "outputId": "9b627688-c458-47e2-f98b-8ff27c1e74b3"
      },
      "execution_count": 7,
      "outputs": [
        {
          "output_type": "stream",
          "name": "stdout",
          "text": [
            "count    5105.000000\n",
            "mean     5485.476396\n",
            "std      2576.757813\n",
            "min       690.000000\n",
            "25%      2453.000000\n",
            "50%      6511.000000\n",
            "75%      7649.000000\n",
            "max      9180.000000\n",
            "Name: Zip Code, dtype: float64\n"
          ]
        }
      ]
    },
    {
      "cell_type": "code",
      "source": [
        "print(inconsistent_zip['Zip Code'])"
      ],
      "metadata": {
        "colab": {
          "base_uri": "https://localhost:8080/"
        },
        "id": "1R4nwY3i3lgO",
        "outputId": "a4256a63-3c7f-42ff-8006-4fe67a2e346b"
      },
      "execution_count": 8,
      "outputs": [
        {
          "output_type": "stream",
          "name": "stdout",
          "text": [
            "13       2903\n",
            "14       7444\n",
            "38       7522\n",
            "47       1007\n",
            "48       6614\n",
            "         ... \n",
            "61000    8043\n",
            "61032    7087\n",
            "61049    8036\n",
            "61051    8701\n",
            "61054    6830\n",
            "Name: Zip Code, Length: 5105, dtype: int64\n"
          ]
        }
      ]
    },
    {
      "cell_type": "code",
      "source": [
        "# remove the null values\n",
        "print(inconsistent_zip['Zip Code'].isna().sum()) # no null values"
      ],
      "metadata": {
        "colab": {
          "base_uri": "https://localhost:8080/"
        },
        "id": "_nGZ6ylL4eGG",
        "outputId": "9addf065-546a-4303-ffd4-09f5fd36cd43"
      },
      "execution_count": 9,
      "outputs": [
        {
          "output_type": "stream",
          "name": "stdout",
          "text": [
            "0\n"
          ]
        }
      ]
    },
    {
      "cell_type": "code",
      "source": [
        "# remove the inconsistent data\n",
        "inconsistent_zip_condition = (df['Zip Code'].isna()) | (df['Zip Code'].astype(str).str.len() != 5)\n",
        "df_cleaned_zip_code = df[~inconsistent_zip_condition]"
      ],
      "metadata": {
        "id": "XokRmnrN4nOZ"
      },
      "execution_count": 10,
      "outputs": []
    },
    {
      "cell_type": "code",
      "source": [
        "# 1.1\n",
        "print(len(df),len(df_cleaned_zip_code),len(inconsistent_zip))"
      ],
      "metadata": {
        "colab": {
          "base_uri": "https://localhost:8080/"
        },
        "id": "pmR23fY65FrR",
        "outputId": "e369298b-1931-44b9-ee63-55fb4d6a0dc2"
      },
      "execution_count": 11,
      "outputs": [
        {
          "output_type": "stream",
          "name": "stdout",
          "text": [
            "61070 55965 5105\n"
          ]
        }
      ]
    },
    {
      "cell_type": "code",
      "source": [
        "df_affiliation = pd.read_excel(file_path, sheet_name='4. Affiliation',header=4)"
      ],
      "metadata": {
        "id": "DlhpuI2q5yQY"
      },
      "execution_count": 12,
      "outputs": []
    },
    {
      "cell_type": "code",
      "source": [
        "df_affiliation.columns"
      ],
      "metadata": {
        "colab": {
          "base_uri": "https://localhost:8080/"
        },
        "id": "GPagIlY76KNf",
        "outputId": "2c5a1222-f87e-41a4-e170-dd8c1eba3b88"
      },
      "execution_count": 13,
      "outputs": [
        {
          "output_type": "execute_result",
          "data": {
            "text/plain": [
              "Index(['Unnamed: 0', 'Physician ID', 'Spec Code', 'Account ID',\n",
              "       'Account Name'],\n",
              "      dtype='object')"
            ]
          },
          "metadata": {},
          "execution_count": 13
        }
      ]
    },
    {
      "cell_type": "code",
      "source": [
        "df_affiliation = df_affiliation.drop(columns=['Unnamed: 0'])"
      ],
      "metadata": {
        "id": "uUbQnK2C6w6M"
      },
      "execution_count": 14,
      "outputs": []
    },
    {
      "cell_type": "code",
      "source": [
        "# 1.2\n",
        "# checking for null values in Affiliation Data Sheet\n",
        "df_affiliation.isna().sum()"
      ],
      "metadata": {
        "colab": {
          "base_uri": "https://localhost:8080/",
          "height": 209
        },
        "id": "YwJqaulo6RHD",
        "outputId": "59f85a14-fded-4299-fd71-7914f0110c4f"
      },
      "execution_count": 15,
      "outputs": [
        {
          "output_type": "execute_result",
          "data": {
            "text/plain": [
              "Physician ID    0\n",
              "Spec Code       0\n",
              "Account ID      0\n",
              "Account Name    0\n",
              "dtype: int64"
            ],
            "text/html": [
              "<div>\n",
              "<style scoped>\n",
              "    .dataframe tbody tr th:only-of-type {\n",
              "        vertical-align: middle;\n",
              "    }\n",
              "\n",
              "    .dataframe tbody tr th {\n",
              "        vertical-align: top;\n",
              "    }\n",
              "\n",
              "    .dataframe thead th {\n",
              "        text-align: right;\n",
              "    }\n",
              "</style>\n",
              "<table border=\"1\" class=\"dataframe\">\n",
              "  <thead>\n",
              "    <tr style=\"text-align: right;\">\n",
              "      <th></th>\n",
              "      <th>0</th>\n",
              "    </tr>\n",
              "  </thead>\n",
              "  <tbody>\n",
              "    <tr>\n",
              "      <th>Physician ID</th>\n",
              "      <td>0</td>\n",
              "    </tr>\n",
              "    <tr>\n",
              "      <th>Spec Code</th>\n",
              "      <td>0</td>\n",
              "    </tr>\n",
              "    <tr>\n",
              "      <th>Account ID</th>\n",
              "      <td>0</td>\n",
              "    </tr>\n",
              "    <tr>\n",
              "      <th>Account Name</th>\n",
              "      <td>0</td>\n",
              "    </tr>\n",
              "  </tbody>\n",
              "</table>\n",
              "</div><br><label><b>dtype:</b> int64</label>"
            ]
          },
          "metadata": {},
          "execution_count": 15
        }
      ]
    },
    {
      "cell_type": "code",
      "source": [
        "df_ztt = pd.read_excel(file_path, sheet_name='2. ZTT File',header=3)"
      ],
      "metadata": {
        "id": "3MCy6pFD6dos"
      },
      "execution_count": 16,
      "outputs": []
    },
    {
      "cell_type": "code",
      "source": [
        "df_ztt.columns"
      ],
      "metadata": {
        "colab": {
          "base_uri": "https://localhost:8080/"
        },
        "id": "4EPx_tMn7Q8l",
        "outputId": "fa0d1123-b5c5-4594-a41f-d087a953aab7"
      },
      "execution_count": 17,
      "outputs": [
        {
          "output_type": "execute_result",
          "data": {
            "text/plain": [
              "Index(['Unnamed: 0', 'Zip', 'Territory', 'Region'], dtype='object')"
            ]
          },
          "metadata": {},
          "execution_count": 17
        }
      ]
    },
    {
      "cell_type": "code",
      "source": [
        "df_ztt = df_ztt.drop(columns=['Unnamed: 0'])\n",
        "df_ztt.columns"
      ],
      "metadata": {
        "colab": {
          "base_uri": "https://localhost:8080/"
        },
        "id": "i59WAu7d7Wl4",
        "outputId": "b666ef47-9862-4a95-f7cd-94576bef9331"
      },
      "execution_count": 18,
      "outputs": [
        {
          "output_type": "execute_result",
          "data": {
            "text/plain": [
              "Index(['Zip', 'Territory', 'Region'], dtype='object')"
            ]
          },
          "metadata": {},
          "execution_count": 18
        }
      ]
    },
    {
      "cell_type": "code",
      "source": [
        "# 1.3 - duplicates in ZTT File\n",
        "ztt_duplicates = df_ztt[df_ztt.duplicated()]"
      ],
      "metadata": {
        "id": "GF91EE9t7Z4s"
      },
      "execution_count": 19,
      "outputs": []
    },
    {
      "cell_type": "code",
      "source": [
        "print(ztt_duplicates)"
      ],
      "metadata": {
        "colab": {
          "base_uri": "https://localhost:8080/"
        },
        "id": "Lp6bSdnX7vHP",
        "outputId": "97d8ff7e-f60b-4096-9bc2-c2391f364f99"
      },
      "execution_count": 20,
      "outputs": [
        {
          "output_type": "stream",
          "name": "stdout",
          "text": [
            "         Zip       Territory   Region\n",
            "5806    6074     CT HARTFORD     EAST\n",
            "5807   10022    NY MANHATTAN    NORTH\n",
            "5809   91723       CA IRVINE     WEST\n",
            "5810   71101       TX DALLAS  CENTRAL\n",
            "5811   28328   NC WILMINGTON     EAST\n",
            "...      ...             ...      ...\n",
            "13341  15909   PA PITTSBURGH     EAST\n",
            "13343  92371    CA RIVERSIDE     WEST\n",
            "13345  43223   PA PITTSBURGH     EAST\n",
            "13347  64050  MO KANSAS CITY  CENTRAL\n",
            "13355  24201    TN KNOXVILLE  CENTRAL\n",
            "\n",
            "[5234 rows x 3 columns]\n"
          ]
        }
      ]
    },
    {
      "cell_type": "code",
      "source": [
        "print(df_ztt.duplicated().sum())"
      ],
      "metadata": {
        "colab": {
          "base_uri": "https://localhost:8080/"
        },
        "id": "Pdxn2MDD7w7q",
        "outputId": "3b5679db-1c1a-447c-b6ce-1bbcdabe852a"
      },
      "execution_count": 21,
      "outputs": [
        {
          "output_type": "stream",
          "name": "stdout",
          "text": [
            "5234\n"
          ]
        }
      ]
    },
    {
      "cell_type": "code",
      "source": [
        "data_sheets = ['1. Prescription Data','2. ZTT File','3. Speciality File','4. Affiliation']\n",
        "headers = [3,3,3,4]"
      ],
      "metadata": {
        "id": "HZ8x0IkN79cV"
      },
      "execution_count": 22,
      "outputs": []
    },
    {
      "cell_type": "code",
      "source": [
        "for idx,sheet in enumerate(data_sheets):\n",
        "  df_temp = pd.read_excel(file_path, sheet_name=sheet,header=headers[idx])\n",
        "  print(sheet)\n",
        "  print(df_temp[df_temp.duplicated()])"
      ],
      "metadata": {
        "colab": {
          "base_uri": "https://localhost:8080/"
        },
        "id": "07miDrZU8kO6",
        "outputId": "5d8abf6c-c24a-46ae-9a7e-e485312a6dc5"
      },
      "execution_count": 23,
      "outputs": [
        {
          "output_type": "stream",
          "name": "stdout",
          "text": [
            "1. Prescription Data\n",
            "Empty DataFrame\n",
            "Columns: [Unnamed: 0, Physician ID, Zip Code, Zederma TRx, Topical Analgesic market TRx, Mercitelo TRx, Insomnia Market TRx, Prescription Date]\n",
            "Index: []\n",
            "2. ZTT File\n",
            "       Unnamed: 0    Zip       Territory   Region\n",
            "5806          NaN   6074     CT HARTFORD     EAST\n",
            "5807          NaN  10022    NY MANHATTAN    NORTH\n",
            "5809          NaN  91723       CA IRVINE     WEST\n",
            "5810          NaN  71101       TX DALLAS  CENTRAL\n",
            "5811          NaN  28328   NC WILMINGTON     EAST\n",
            "...           ...    ...             ...      ...\n",
            "13341         NaN  15909   PA PITTSBURGH     EAST\n",
            "13343         NaN  92371    CA RIVERSIDE     WEST\n",
            "13345         NaN  43223   PA PITTSBURGH     EAST\n",
            "13347         NaN  64050  MO KANSAS CITY  CENTRAL\n",
            "13355         NaN  24201    TN KNOXVILLE  CENTRAL\n",
            "\n",
            "[5234 rows x 4 columns]\n",
            "3. Speciality File\n",
            "Empty DataFrame\n",
            "Columns: [Unnamed: 0, Spec Code, Description, Zederma target flag, Mercitelo target flag]\n",
            "Index: []\n",
            "4. Affiliation\n",
            "Empty DataFrame\n",
            "Columns: [Unnamed: 0, Physician ID, Spec Code, Account ID, Account Name]\n",
            "Index: []\n"
          ]
        }
      ]
    },
    {
      "cell_type": "markdown",
      "source": [
        "Problem 2:\n",
        "Utilize data from Table 1.1 to determine ProcDNA's revenue forecast for both products in 2024. With the total forecast for each product and the Market TRx, calculate Total TRx and $/TRx for each product. Then, segment HCPs into ten deciles based on their Total Market Dollar Potential, including both products, and calculate the count of HCPs in each Decile. Make a visualization for key insights"
      ],
      "metadata": {
        "id": "MZBCGDv-9KQm"
      }
    },
    {
      "cell_type": "code",
      "source": [
        "df_prescription_data = df_cleaned_zip_code\n",
        "df_speciality_file = pd.read_excel(file_path, sheet_name='3. Speciality File',header=3)\n",
        "df_affiliation = df_affiliation"
      ],
      "metadata": {
        "id": "xA6rh2g29Ph4"
      },
      "execution_count": 24,
      "outputs": []
    },
    {
      "cell_type": "code",
      "source": [
        "df_prescription_affiliation = pd.merge(df_prescription_data, df_affiliation, on='Physician ID', how='inner')"
      ],
      "metadata": {
        "id": "S0SELSJKCAaY"
      },
      "execution_count": 25,
      "outputs": []
    },
    {
      "cell_type": "code",
      "source": [
        "df_final = pd.merge(df_prescription_affiliation, df_speciality_file, left_on='Spec Code', right_on='Spec Code', how='left')"
      ],
      "metadata": {
        "id": "JfU7M_cBCTQI"
      },
      "execution_count": 26,
      "outputs": []
    },
    {
      "cell_type": "code",
      "source": [
        "df_final = df_final.fillna(0)"
      ],
      "metadata": {
        "id": "rhcq_mEtCqQ8"
      },
      "execution_count": 27,
      "outputs": []
    },
    {
      "cell_type": "code",
      "source": [
        "df_final = df_final[['Physician ID','Zederma TRx','Topical Analgesic market TRx','Mercitelo TRx','Insomnia Market TRx','Prescription Date','Spec Code','Zederma target flag','Mercitelo target flag']]\n",
        "df_final"
      ],
      "metadata": {
        "colab": {
          "base_uri": "https://localhost:8080/",
          "height": 478
        },
        "id": "Te4T9NM2D33G",
        "outputId": "2137e014-47aa-4d84-8b46-79515b6f7e4d"
      },
      "execution_count": 28,
      "outputs": [
        {
          "output_type": "execute_result",
          "data": {
            "text/plain": [
              "       Physician ID  Zederma TRx  Topical Analgesic market TRx  Mercitelo TRx  \\\n",
              "0        7138751703          0.0                    972.440012            0.0   \n",
              "1        7810991651          0.0                    745.830006            0.0   \n",
              "2        9485169528          0.0                   2713.300032            0.0   \n",
              "3        2168572808          0.0                    623.519999           21.0   \n",
              "4        4518835174          0.0                   1138.690001            0.0   \n",
              "...             ...          ...                           ...            ...   \n",
              "55960    3810859794          0.0                     12.880000            0.0   \n",
              "55961    7025096207          0.0                    292.480000            0.0   \n",
              "55962    5684024569          0.0                     88.720001            8.0   \n",
              "55963    2511329025          0.0                    398.560002            0.0   \n",
              "55964    9464159802          0.0                    641.930004            0.0   \n",
              "\n",
              "       Insomnia Market TRx Prescription Date Spec Code  Zederma target flag  \\\n",
              "0                        0        2023-10-20        AN                  1.0   \n",
              "1                      175        2023-10-14        FM                  1.0   \n",
              "2                       26        2023-11-24       PMR                  1.0   \n",
              "3                     5121        2023-09-01         N                  1.0   \n",
              "4                      135        2023-12-17        FM                  1.0   \n",
              "...                    ...               ...       ...                  ...   \n",
              "55960                    0        2023-11-18       RHU                  1.0   \n",
              "55961                   58        2023-05-10        IM                  1.0   \n",
              "55962                 1342        2023-03-12         N                  1.0   \n",
              "55963                    0        2023-07-27       RHU                  1.0   \n",
              "55964                    0        2023-07-27       RHU                  1.0   \n",
              "\n",
              "       Mercitelo target flag  \n",
              "0                        1.0  \n",
              "1                        1.0  \n",
              "2                        0.0  \n",
              "3                        1.0  \n",
              "4                        1.0  \n",
              "...                      ...  \n",
              "55960                    1.0  \n",
              "55961                    1.0  \n",
              "55962                    1.0  \n",
              "55963                    1.0  \n",
              "55964                    1.0  \n",
              "\n",
              "[55965 rows x 9 columns]"
            ],
            "text/html": [
              "\n",
              "  <div id=\"df-9bbe13a7-6406-4741-a2af-37d9cc891576\" class=\"colab-df-container\">\n",
              "    <div>\n",
              "<style scoped>\n",
              "    .dataframe tbody tr th:only-of-type {\n",
              "        vertical-align: middle;\n",
              "    }\n",
              "\n",
              "    .dataframe tbody tr th {\n",
              "        vertical-align: top;\n",
              "    }\n",
              "\n",
              "    .dataframe thead th {\n",
              "        text-align: right;\n",
              "    }\n",
              "</style>\n",
              "<table border=\"1\" class=\"dataframe\">\n",
              "  <thead>\n",
              "    <tr style=\"text-align: right;\">\n",
              "      <th></th>\n",
              "      <th>Physician ID</th>\n",
              "      <th>Zederma TRx</th>\n",
              "      <th>Topical Analgesic market TRx</th>\n",
              "      <th>Mercitelo TRx</th>\n",
              "      <th>Insomnia Market TRx</th>\n",
              "      <th>Prescription Date</th>\n",
              "      <th>Spec Code</th>\n",
              "      <th>Zederma target flag</th>\n",
              "      <th>Mercitelo target flag</th>\n",
              "    </tr>\n",
              "  </thead>\n",
              "  <tbody>\n",
              "    <tr>\n",
              "      <th>0</th>\n",
              "      <td>7138751703</td>\n",
              "      <td>0.0</td>\n",
              "      <td>972.440012</td>\n",
              "      <td>0.0</td>\n",
              "      <td>0</td>\n",
              "      <td>2023-10-20</td>\n",
              "      <td>AN</td>\n",
              "      <td>1.0</td>\n",
              "      <td>1.0</td>\n",
              "    </tr>\n",
              "    <tr>\n",
              "      <th>1</th>\n",
              "      <td>7810991651</td>\n",
              "      <td>0.0</td>\n",
              "      <td>745.830006</td>\n",
              "      <td>0.0</td>\n",
              "      <td>175</td>\n",
              "      <td>2023-10-14</td>\n",
              "      <td>FM</td>\n",
              "      <td>1.0</td>\n",
              "      <td>1.0</td>\n",
              "    </tr>\n",
              "    <tr>\n",
              "      <th>2</th>\n",
              "      <td>9485169528</td>\n",
              "      <td>0.0</td>\n",
              "      <td>2713.300032</td>\n",
              "      <td>0.0</td>\n",
              "      <td>26</td>\n",
              "      <td>2023-11-24</td>\n",
              "      <td>PMR</td>\n",
              "      <td>1.0</td>\n",
              "      <td>0.0</td>\n",
              "    </tr>\n",
              "    <tr>\n",
              "      <th>3</th>\n",
              "      <td>2168572808</td>\n",
              "      <td>0.0</td>\n",
              "      <td>623.519999</td>\n",
              "      <td>21.0</td>\n",
              "      <td>5121</td>\n",
              "      <td>2023-09-01</td>\n",
              "      <td>N</td>\n",
              "      <td>1.0</td>\n",
              "      <td>1.0</td>\n",
              "    </tr>\n",
              "    <tr>\n",
              "      <th>4</th>\n",
              "      <td>4518835174</td>\n",
              "      <td>0.0</td>\n",
              "      <td>1138.690001</td>\n",
              "      <td>0.0</td>\n",
              "      <td>135</td>\n",
              "      <td>2023-12-17</td>\n",
              "      <td>FM</td>\n",
              "      <td>1.0</td>\n",
              "      <td>1.0</td>\n",
              "    </tr>\n",
              "    <tr>\n",
              "      <th>...</th>\n",
              "      <td>...</td>\n",
              "      <td>...</td>\n",
              "      <td>...</td>\n",
              "      <td>...</td>\n",
              "      <td>...</td>\n",
              "      <td>...</td>\n",
              "      <td>...</td>\n",
              "      <td>...</td>\n",
              "      <td>...</td>\n",
              "    </tr>\n",
              "    <tr>\n",
              "      <th>55960</th>\n",
              "      <td>3810859794</td>\n",
              "      <td>0.0</td>\n",
              "      <td>12.880000</td>\n",
              "      <td>0.0</td>\n",
              "      <td>0</td>\n",
              "      <td>2023-11-18</td>\n",
              "      <td>RHU</td>\n",
              "      <td>1.0</td>\n",
              "      <td>1.0</td>\n",
              "    </tr>\n",
              "    <tr>\n",
              "      <th>55961</th>\n",
              "      <td>7025096207</td>\n",
              "      <td>0.0</td>\n",
              "      <td>292.480000</td>\n",
              "      <td>0.0</td>\n",
              "      <td>58</td>\n",
              "      <td>2023-05-10</td>\n",
              "      <td>IM</td>\n",
              "      <td>1.0</td>\n",
              "      <td>1.0</td>\n",
              "    </tr>\n",
              "    <tr>\n",
              "      <th>55962</th>\n",
              "      <td>5684024569</td>\n",
              "      <td>0.0</td>\n",
              "      <td>88.720001</td>\n",
              "      <td>8.0</td>\n",
              "      <td>1342</td>\n",
              "      <td>2023-03-12</td>\n",
              "      <td>N</td>\n",
              "      <td>1.0</td>\n",
              "      <td>1.0</td>\n",
              "    </tr>\n",
              "    <tr>\n",
              "      <th>55963</th>\n",
              "      <td>2511329025</td>\n",
              "      <td>0.0</td>\n",
              "      <td>398.560002</td>\n",
              "      <td>0.0</td>\n",
              "      <td>0</td>\n",
              "      <td>2023-07-27</td>\n",
              "      <td>RHU</td>\n",
              "      <td>1.0</td>\n",
              "      <td>1.0</td>\n",
              "    </tr>\n",
              "    <tr>\n",
              "      <th>55964</th>\n",
              "      <td>9464159802</td>\n",
              "      <td>0.0</td>\n",
              "      <td>641.930004</td>\n",
              "      <td>0.0</td>\n",
              "      <td>0</td>\n",
              "      <td>2023-07-27</td>\n",
              "      <td>RHU</td>\n",
              "      <td>1.0</td>\n",
              "      <td>1.0</td>\n",
              "    </tr>\n",
              "  </tbody>\n",
              "</table>\n",
              "<p>55965 rows × 9 columns</p>\n",
              "</div>\n",
              "    <div class=\"colab-df-buttons\">\n",
              "\n",
              "  <div class=\"colab-df-container\">\n",
              "    <button class=\"colab-df-convert\" onclick=\"convertToInteractive('df-9bbe13a7-6406-4741-a2af-37d9cc891576')\"\n",
              "            title=\"Convert this dataframe to an interactive table.\"\n",
              "            style=\"display:none;\">\n",
              "\n",
              "  <svg xmlns=\"http://www.w3.org/2000/svg\" height=\"24px\" viewBox=\"0 -960 960 960\">\n",
              "    <path d=\"M120-120v-720h720v720H120Zm60-500h600v-160H180v160Zm220 220h160v-160H400v160Zm0 220h160v-160H400v160ZM180-400h160v-160H180v160Zm440 0h160v-160H620v160ZM180-180h160v-160H180v160Zm440 0h160v-160H620v160Z\"/>\n",
              "  </svg>\n",
              "    </button>\n",
              "\n",
              "  <style>\n",
              "    .colab-df-container {\n",
              "      display:flex;\n",
              "      gap: 12px;\n",
              "    }\n",
              "\n",
              "    .colab-df-convert {\n",
              "      background-color: #E8F0FE;\n",
              "      border: none;\n",
              "      border-radius: 50%;\n",
              "      cursor: pointer;\n",
              "      display: none;\n",
              "      fill: #1967D2;\n",
              "      height: 32px;\n",
              "      padding: 0 0 0 0;\n",
              "      width: 32px;\n",
              "    }\n",
              "\n",
              "    .colab-df-convert:hover {\n",
              "      background-color: #E2EBFA;\n",
              "      box-shadow: 0px 1px 2px rgba(60, 64, 67, 0.3), 0px 1px 3px 1px rgba(60, 64, 67, 0.15);\n",
              "      fill: #174EA6;\n",
              "    }\n",
              "\n",
              "    .colab-df-buttons div {\n",
              "      margin-bottom: 4px;\n",
              "    }\n",
              "\n",
              "    [theme=dark] .colab-df-convert {\n",
              "      background-color: #3B4455;\n",
              "      fill: #D2E3FC;\n",
              "    }\n",
              "\n",
              "    [theme=dark] .colab-df-convert:hover {\n",
              "      background-color: #434B5C;\n",
              "      box-shadow: 0px 1px 3px 1px rgba(0, 0, 0, 0.15);\n",
              "      filter: drop-shadow(0px 1px 2px rgba(0, 0, 0, 0.3));\n",
              "      fill: #FFFFFF;\n",
              "    }\n",
              "  </style>\n",
              "\n",
              "    <script>\n",
              "      const buttonEl =\n",
              "        document.querySelector('#df-9bbe13a7-6406-4741-a2af-37d9cc891576 button.colab-df-convert');\n",
              "      buttonEl.style.display =\n",
              "        google.colab.kernel.accessAllowed ? 'block' : 'none';\n",
              "\n",
              "      async function convertToInteractive(key) {\n",
              "        const element = document.querySelector('#df-9bbe13a7-6406-4741-a2af-37d9cc891576');\n",
              "        const dataTable =\n",
              "          await google.colab.kernel.invokeFunction('convertToInteractive',\n",
              "                                                    [key], {});\n",
              "        if (!dataTable) return;\n",
              "\n",
              "        const docLinkHtml = 'Like what you see? Visit the ' +\n",
              "          '<a target=\"_blank\" href=https://colab.research.google.com/notebooks/data_table.ipynb>data table notebook</a>'\n",
              "          + ' to learn more about interactive tables.';\n",
              "        element.innerHTML = '';\n",
              "        dataTable['output_type'] = 'display_data';\n",
              "        await google.colab.output.renderOutput(dataTable, element);\n",
              "        const docLink = document.createElement('div');\n",
              "        docLink.innerHTML = docLinkHtml;\n",
              "        element.appendChild(docLink);\n",
              "      }\n",
              "    </script>\n",
              "  </div>\n",
              "\n",
              "\n",
              "<div id=\"df-d90839e5-9e92-4c25-83a9-b62d951c2e0e\">\n",
              "  <button class=\"colab-df-quickchart\" onclick=\"quickchart('df-d90839e5-9e92-4c25-83a9-b62d951c2e0e')\"\n",
              "            title=\"Suggest charts\"\n",
              "            style=\"display:none;\">\n",
              "\n",
              "<svg xmlns=\"http://www.w3.org/2000/svg\" height=\"24px\"viewBox=\"0 0 24 24\"\n",
              "     width=\"24px\">\n",
              "    <g>\n",
              "        <path d=\"M19 3H5c-1.1 0-2 .9-2 2v14c0 1.1.9 2 2 2h14c1.1 0 2-.9 2-2V5c0-1.1-.9-2-2-2zM9 17H7v-7h2v7zm4 0h-2V7h2v10zm4 0h-2v-4h2v4z\"/>\n",
              "    </g>\n",
              "</svg>\n",
              "  </button>\n",
              "\n",
              "<style>\n",
              "  .colab-df-quickchart {\n",
              "      --bg-color: #E8F0FE;\n",
              "      --fill-color: #1967D2;\n",
              "      --hover-bg-color: #E2EBFA;\n",
              "      --hover-fill-color: #174EA6;\n",
              "      --disabled-fill-color: #AAA;\n",
              "      --disabled-bg-color: #DDD;\n",
              "  }\n",
              "\n",
              "  [theme=dark] .colab-df-quickchart {\n",
              "      --bg-color: #3B4455;\n",
              "      --fill-color: #D2E3FC;\n",
              "      --hover-bg-color: #434B5C;\n",
              "      --hover-fill-color: #FFFFFF;\n",
              "      --disabled-bg-color: #3B4455;\n",
              "      --disabled-fill-color: #666;\n",
              "  }\n",
              "\n",
              "  .colab-df-quickchart {\n",
              "    background-color: var(--bg-color);\n",
              "    border: none;\n",
              "    border-radius: 50%;\n",
              "    cursor: pointer;\n",
              "    display: none;\n",
              "    fill: var(--fill-color);\n",
              "    height: 32px;\n",
              "    padding: 0;\n",
              "    width: 32px;\n",
              "  }\n",
              "\n",
              "  .colab-df-quickchart:hover {\n",
              "    background-color: var(--hover-bg-color);\n",
              "    box-shadow: 0 1px 2px rgba(60, 64, 67, 0.3), 0 1px 3px 1px rgba(60, 64, 67, 0.15);\n",
              "    fill: var(--button-hover-fill-color);\n",
              "  }\n",
              "\n",
              "  .colab-df-quickchart-complete:disabled,\n",
              "  .colab-df-quickchart-complete:disabled:hover {\n",
              "    background-color: var(--disabled-bg-color);\n",
              "    fill: var(--disabled-fill-color);\n",
              "    box-shadow: none;\n",
              "  }\n",
              "\n",
              "  .colab-df-spinner {\n",
              "    border: 2px solid var(--fill-color);\n",
              "    border-color: transparent;\n",
              "    border-bottom-color: var(--fill-color);\n",
              "    animation:\n",
              "      spin 1s steps(1) infinite;\n",
              "  }\n",
              "\n",
              "  @keyframes spin {\n",
              "    0% {\n",
              "      border-color: transparent;\n",
              "      border-bottom-color: var(--fill-color);\n",
              "      border-left-color: var(--fill-color);\n",
              "    }\n",
              "    20% {\n",
              "      border-color: transparent;\n",
              "      border-left-color: var(--fill-color);\n",
              "      border-top-color: var(--fill-color);\n",
              "    }\n",
              "    30% {\n",
              "      border-color: transparent;\n",
              "      border-left-color: var(--fill-color);\n",
              "      border-top-color: var(--fill-color);\n",
              "      border-right-color: var(--fill-color);\n",
              "    }\n",
              "    40% {\n",
              "      border-color: transparent;\n",
              "      border-right-color: var(--fill-color);\n",
              "      border-top-color: var(--fill-color);\n",
              "    }\n",
              "    60% {\n",
              "      border-color: transparent;\n",
              "      border-right-color: var(--fill-color);\n",
              "    }\n",
              "    80% {\n",
              "      border-color: transparent;\n",
              "      border-right-color: var(--fill-color);\n",
              "      border-bottom-color: var(--fill-color);\n",
              "    }\n",
              "    90% {\n",
              "      border-color: transparent;\n",
              "      border-bottom-color: var(--fill-color);\n",
              "    }\n",
              "  }\n",
              "</style>\n",
              "\n",
              "  <script>\n",
              "    async function quickchart(key) {\n",
              "      const quickchartButtonEl =\n",
              "        document.querySelector('#' + key + ' button');\n",
              "      quickchartButtonEl.disabled = true;  // To prevent multiple clicks.\n",
              "      quickchartButtonEl.classList.add('colab-df-spinner');\n",
              "      try {\n",
              "        const charts = await google.colab.kernel.invokeFunction(\n",
              "            'suggestCharts', [key], {});\n",
              "      } catch (error) {\n",
              "        console.error('Error during call to suggestCharts:', error);\n",
              "      }\n",
              "      quickchartButtonEl.classList.remove('colab-df-spinner');\n",
              "      quickchartButtonEl.classList.add('colab-df-quickchart-complete');\n",
              "    }\n",
              "    (() => {\n",
              "      let quickchartButtonEl =\n",
              "        document.querySelector('#df-d90839e5-9e92-4c25-83a9-b62d951c2e0e button');\n",
              "      quickchartButtonEl.style.display =\n",
              "        google.colab.kernel.accessAllowed ? 'block' : 'none';\n",
              "    })();\n",
              "  </script>\n",
              "</div>\n",
              "\n",
              "  <div id=\"id_6e19bc29-0fd9-4a0b-b052-ae032eb68360\">\n",
              "    <style>\n",
              "      .colab-df-generate {\n",
              "        background-color: #E8F0FE;\n",
              "        border: none;\n",
              "        border-radius: 50%;\n",
              "        cursor: pointer;\n",
              "        display: none;\n",
              "        fill: #1967D2;\n",
              "        height: 32px;\n",
              "        padding: 0 0 0 0;\n",
              "        width: 32px;\n",
              "      }\n",
              "\n",
              "      .colab-df-generate:hover {\n",
              "        background-color: #E2EBFA;\n",
              "        box-shadow: 0px 1px 2px rgba(60, 64, 67, 0.3), 0px 1px 3px 1px rgba(60, 64, 67, 0.15);\n",
              "        fill: #174EA6;\n",
              "      }\n",
              "\n",
              "      [theme=dark] .colab-df-generate {\n",
              "        background-color: #3B4455;\n",
              "        fill: #D2E3FC;\n",
              "      }\n",
              "\n",
              "      [theme=dark] .colab-df-generate:hover {\n",
              "        background-color: #434B5C;\n",
              "        box-shadow: 0px 1px 3px 1px rgba(0, 0, 0, 0.15);\n",
              "        filter: drop-shadow(0px 1px 2px rgba(0, 0, 0, 0.3));\n",
              "        fill: #FFFFFF;\n",
              "      }\n",
              "    </style>\n",
              "    <button class=\"colab-df-generate\" onclick=\"generateWithVariable('df_final')\"\n",
              "            title=\"Generate code using this dataframe.\"\n",
              "            style=\"display:none;\">\n",
              "\n",
              "  <svg xmlns=\"http://www.w3.org/2000/svg\" height=\"24px\"viewBox=\"0 0 24 24\"\n",
              "       width=\"24px\">\n",
              "    <path d=\"M7,19H8.4L18.45,9,17,7.55,7,17.6ZM5,21V16.75L18.45,3.32a2,2,0,0,1,2.83,0l1.4,1.43a1.91,1.91,0,0,1,.58,1.4,1.91,1.91,0,0,1-.58,1.4L9.25,21ZM18.45,9,17,7.55Zm-12,3A5.31,5.31,0,0,0,4.9,8.1,5.31,5.31,0,0,0,1,6.5,5.31,5.31,0,0,0,4.9,4.9,5.31,5.31,0,0,0,6.5,1,5.31,5.31,0,0,0,8.1,4.9,5.31,5.31,0,0,0,12,6.5,5.46,5.46,0,0,0,6.5,12Z\"/>\n",
              "  </svg>\n",
              "    </button>\n",
              "    <script>\n",
              "      (() => {\n",
              "      const buttonEl =\n",
              "        document.querySelector('#id_6e19bc29-0fd9-4a0b-b052-ae032eb68360 button.colab-df-generate');\n",
              "      buttonEl.style.display =\n",
              "        google.colab.kernel.accessAllowed ? 'block' : 'none';\n",
              "\n",
              "      buttonEl.onclick = () => {\n",
              "        google.colab.notebook.generateWithVariable('df_final');\n",
              "      }\n",
              "      })();\n",
              "    </script>\n",
              "  </div>\n",
              "\n",
              "    </div>\n",
              "  </div>\n"
            ],
            "application/vnd.google.colaboratory.intrinsic+json": {
              "type": "dataframe",
              "variable_name": "df_final",
              "summary": "{\n  \"name\": \"df_final\",\n  \"rows\": 55965,\n  \"fields\": [\n    {\n      \"column\": \"Physician ID\",\n      \"properties\": {\n        \"dtype\": \"number\",\n        \"std\": 2598814824,\n        \"min\": 1000034582,\n        \"max\": 9999863971,\n        \"num_unique_values\": 55965,\n        \"samples\": [\n          8308477638,\n          9551246067,\n          2105658217\n        ],\n        \"semantic_type\": \"\",\n        \"description\": \"\"\n      }\n    },\n    {\n      \"column\": \"Zederma TRx\",\n      \"properties\": {\n        \"dtype\": \"number\",\n        \"std\": 112.79551776016353,\n        \"min\": 0.0,\n        \"max\": 10184.0,\n        \"num_unique_values\": 1079,\n        \"samples\": [\n          451.0,\n          167.0,\n          587.0\n        ],\n        \"semantic_type\": \"\",\n        \"description\": \"\"\n      }\n    },\n    {\n      \"column\": \"Topical Analgesic market TRx\",\n      \"properties\": {\n        \"dtype\": \"number\",\n        \"std\": 619.2906896450761,\n        \"min\": 0.0,\n        \"max\": 19575.7001009025,\n        \"num_unique_values\": 53883,\n        \"samples\": [\n          606.920002639294,\n          220.81000199914,\n          18.870000243187\n        ],\n        \"semantic_type\": \"\",\n        \"description\": \"\"\n      }\n    },\n    {\n      \"column\": \"Mercitelo TRx\",\n      \"properties\": {\n        \"dtype\": \"number\",\n        \"std\": 23.342728542717204,\n        \"min\": 0.0,\n        \"max\": 527.0,\n        \"num_unique_values\": 125,\n        \"samples\": [\n          39.0,\n          50.0,\n          31.0\n        ],\n        \"semantic_type\": \"\",\n        \"description\": \"\"\n      }\n    },\n    {\n      \"column\": \"Insomnia Market TRx\",\n      \"properties\": {\n        \"dtype\": \"number\",\n        \"std\": 387,\n        \"min\": 0,\n        \"max\": 30969,\n        \"num_unique_values\": 2009,\n        \"samples\": [\n          1542,\n          1762,\n          1218\n        ],\n        \"semantic_type\": \"\",\n        \"description\": \"\"\n      }\n    },\n    {\n      \"column\": \"Prescription Date\",\n      \"properties\": {\n        \"dtype\": \"date\",\n        \"min\": \"2023-01-01 00:00:00\",\n        \"max\": \"2023-12-31 00:00:00\",\n        \"num_unique_values\": 365,\n        \"samples\": [\n          \"2023-03-05 00:00:00\",\n          \"2023-01-20 00:00:00\",\n          \"2023-02-03 00:00:00\"\n        ],\n        \"semantic_type\": \"\",\n        \"description\": \"\"\n      }\n    },\n    {\n      \"column\": \"Spec Code\",\n      \"properties\": {\n        \"dtype\": \"category\",\n        \"num_unique_values\": 146,\n        \"samples\": [\n          \"ORS\",\n          \"A\",\n          \"ICE\"\n        ],\n        \"semantic_type\": \"\",\n        \"description\": \"\"\n      }\n    },\n    {\n      \"column\": \"Zederma target flag\",\n      \"properties\": {\n        \"dtype\": \"number\",\n        \"std\": 0.31337857610978037,\n        \"min\": 0.0,\n        \"max\": 1.0,\n        \"num_unique_values\": 2,\n        \"samples\": [\n          0.0,\n          1.0\n        ],\n        \"semantic_type\": \"\",\n        \"description\": \"\"\n      }\n    },\n    {\n      \"column\": \"Mercitelo target flag\",\n      \"properties\": {\n        \"dtype\": \"number\",\n        \"std\": 0.3737248511206955,\n        \"min\": 0.0,\n        \"max\": 1.0,\n        \"num_unique_values\": 2,\n        \"samples\": [\n          0.0,\n          1.0\n        ],\n        \"semantic_type\": \"\",\n        \"description\": \"\"\n      }\n    }\n  ]\n}"
            }
          },
          "metadata": {},
          "execution_count": 28
        }
      ]
    },
    {
      "cell_type": "code",
      "source": [],
      "metadata": {
        "id": "gKW9-4w2Kmny"
      },
      "execution_count": 28,
      "outputs": []
    }
  ]
}